{
 "cells": [
  {
   "cell_type": "code",
   "execution_count": 18,
   "id": "d3db5c0c-0b96-4f88-b836-4488ec851e4a",
   "metadata": {},
   "outputs": [
    {
     "name": "stdin",
     "output_type": "stream",
     "text": [
      "Enter the first number: 5\n",
      "Enter the second number: 5\n",
      "Enter which operation shouild this perform (+,-,*,/) ? +\n"
     ]
    },
    {
     "name": "stdout",
     "output_type": "stream",
     "text": [
      "10\n",
      "The operation for your given operator + is \n",
      "Calculation is over\n"
     ]
    }
   ],
   "source": [
    "try:\n",
    "    a=int(input(\"Enter the first number:\"))\n",
    "    b=int(input(\"Enter the second number:\"))\n",
    "    c=str(input(\"Enter which operation shouild this perform (+,-,*,/) ?\"))\n",
    "    def add(a,b):\n",
    "        d=a+b\n",
    "        return d\n",
    "    def sub(a,b):\n",
    "        d=a-b\n",
    "        return d\n",
    "    def mul(a,b):\n",
    "        d=a*b\n",
    "        return(d)\n",
    "    def div(a,b):\n",
    "        d=a/b\n",
    "        return d\n",
    "    if c=='+':\n",
    "        print(add(a,b))\n",
    "    elif c=='-':\n",
    "        print(sub(a,b))\n",
    "    elif c=='*':\n",
    "        print(mul(a,b))\n",
    "    elif c=='/':\n",
    "        print(div(a,b))\n",
    "    print(\"The operation for your given operator\",c,\"is\",d)\n",
    "except Exception as s:\n",
    "    print(s)\n",
    "finally:\n",
    "    print(\"Calculation is over\")"
   ]
  },
  {
   "cell_type": "code",
   "execution_count": null,
   "id": "400aec4b-c6ec-46dd-ba39-3a84b54ff88e",
   "metadata": {},
   "outputs": [],
   "source": []
  },
  {
   "cell_type": "code",
   "execution_count": null,
   "id": "96490559-8a14-4d59-adf2-cd401cf65480",
   "metadata": {},
   "outputs": [],
   "source": []
  },
  {
   "cell_type": "code",
   "execution_count": null,
   "id": "ae2cc24e-c608-4023-b422-32d2c2d877fe",
   "metadata": {},
   "outputs": [],
   "source": []
  }
 ],
 "metadata": {
  "kernelspec": {
   "display_name": "Python 3 (ipykernel)",
   "language": "python",
   "name": "python3"
  },
  "language_info": {
   "codemirror_mode": {
    "name": "ipython",
    "version": 3
   },
   "file_extension": ".py",
   "mimetype": "text/x-python",
   "name": "python",
   "nbconvert_exporter": "python",
   "pygments_lexer": "ipython3",
   "version": "3.12.4"
  }
 },
 "nbformat": 4,
 "nbformat_minor": 5
}
